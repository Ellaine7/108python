{
 "cells": [
  {
   "cell_type": "code",
   "execution_count": 9,
   "metadata": {},
   "outputs": [
    {
     "data": {
      "text/plain": [
       "True"
      ]
     },
     "execution_count": 9,
     "metadata": {},
     "output_type": "execute_result"
    }
   ],
   "source": [
    "bool(3)"
   ]
  },
  {
   "cell_type": "code",
   "execution_count": 10,
   "metadata": {},
   "outputs": [
    {
     "data": {
      "text/plain": [
       "True"
      ]
     },
     "execution_count": 10,
     "metadata": {},
     "output_type": "execute_result"
    }
   ],
   "source": [
    "bool(-3)"
   ]
  },
  {
   "cell_type": "code",
   "execution_count": 28,
   "metadata": {},
   "outputs": [
    {
     "name": "stdout",
     "output_type": "stream",
     "text": [
      "1 1 0\n",
      "XOR\n"
     ]
    }
   ],
   "source": [
    "line=input().split()\n",
    "a, b, c = map(int, line)\n",
    "if a!=0:\n",
    "    a=1\n",
    "if b!=0:\n",
    "    b=1\n",
    "if c!=0:\n",
    "    c=1\n",
    "fail= True\n",
    "if (a & b == c):\n",
    "    print(\"AND\")\n",
    "    fail= False\n",
    "if (a|b ==c):\n",
    "    print(\"OR\")\n",
    "    fail= False\n",
    "if (a^b ==c):\n",
    "    print (\"XOR\")\n",
    "    fail= False\n",
    "if fail:\n",
    "    print(\"IMPOSSIBLE\")\n",
    "    "
   ]
  },
  {
   "cell_type": "code",
   "execution_count": 18,
   "metadata": {},
   "outputs": [],
   "source": [
    "c = 'a'\n"
   ]
  },
  {
   "cell_type": "code",
   "execution_count": 19,
   "metadata": {},
   "outputs": [
    {
     "data": {
      "text/plain": [
       "True"
      ]
     },
     "execution_count": 19,
     "metadata": {},
     "output_type": "execute_result"
    }
   ],
   "source": [
    "c.islower()"
   ]
  },
  {
   "cell_type": "code",
   "execution_count": 20,
   "metadata": {},
   "outputs": [],
   "source": [
    "c = 'A'"
   ]
  },
  {
   "cell_type": "code",
   "execution_count": 21,
   "metadata": {},
   "outputs": [
    {
     "data": {
      "text/plain": [
       "True"
      ]
     },
     "execution_count": 21,
     "metadata": {},
     "output_type": "execute_result"
    }
   ],
   "source": [
    "c.isupper()  #判斷大小寫"
   ]
  },
  {
   "cell_type": "code",
   "execution_count": 22,
   "metadata": {},
   "outputs": [],
   "source": [
    "st=\"00011100110\""
   ]
  },
  {
   "cell_type": "code",
   "execution_count": 23,
   "metadata": {},
   "outputs": [
    {
     "data": {
      "text/plain": [
       "True"
      ]
     },
     "execution_count": 23,
     "metadata": {},
     "output_type": "execute_result"
    }
   ],
   "source": [
    "'0011'in st"
   ]
  },
  {
   "cell_type": "code",
   "execution_count": 24,
   "metadata": {},
   "outputs": [
    {
     "data": {
      "text/plain": [
       "True"
      ]
     },
     "execution_count": 24,
     "metadata": {},
     "output_type": "execute_result"
    }
   ],
   "source": [
    "\"1100\" in st"
   ]
  },
  {
   "cell_type": "code",
   "execution_count": 25,
   "metadata": {},
   "outputs": [
    {
     "data": {
      "text/plain": [
       "False"
      ]
     },
     "execution_count": 25,
     "metadata": {},
     "output_type": "execute_result"
    }
   ],
   "source": [
    "\"001100\" in st"
   ]
  },
  {
   "cell_type": "code",
   "execution_count": 26,
   "metadata": {},
   "outputs": [
    {
     "data": {
      "text/plain": [
       "True"
      ]
     },
     "execution_count": 26,
     "metadata": {},
     "output_type": "execute_result"
    }
   ],
   "source": [
    "\"110011\" in st"
   ]
  },
  {
   "cell_type": "code",
   "execution_count": 43,
   "metadata": {},
   "outputs": [
    {
     "data": {
      "text/plain": [
       "[0, 0, 1, 0, 0, 0, 1, 1, 1, 0, 0, 0]"
      ]
     },
     "execution_count": 43,
     "metadata": {},
     "output_type": "execute_result"
    }
   ],
   "source": [
    "st=\"asDhjhDDDhjh\"    #串列\"  \"\n",
    "k=len(st)\n",
    "\n",
    "mm=[]\n",
    "for i in range(0,k):\n",
    "    c=st[i]\n",
    "    if c.isupper():\n",
    "        mm.append(1)\n",
    "    else:\n",
    "        mm.append(0)\n",
    "mm"
   ]
  },
  {
   "cell_type": "code",
   "execution_count": 44,
   "metadata": {},
   "outputs": [
    {
     "name": "stdout",
     "output_type": "stream",
     "text": [
      "110111000111\n"
     ]
    }
   ],
   "source": [
    "st='asDhjhDDDhjh'    ##字串'  '\n",
    "k=len(st)\n",
    "\n",
    "nn=''\n",
    "for i in range(0,k):\n",
    "    c=st[i]\n",
    "    if c.isupper():\n",
    "        nn=nn+\"0\"\n",
    "    else:\n",
    "        nn=nn+'1'\n",
    "print(nn)"
   ]
  },
  {
   "cell_type": "code",
   "execution_count": null,
   "metadata": {},
   "outputs": [],
   "source": [
    "k=2\n",
    "pattern="
   ]
  },
  {
   "cell_type": "code",
   "execution_count": null,
   "metadata": {},
   "outputs": [],
   "source": [
    "[x.isupper()for x in line] "
   ]
  },
  {
   "cell_type": "code",
   "execution_count": null,
   "metadata": {},
   "outputs": [],
   "source": [
    "str[int(x.isupper())]for x in line]"
   ]
  },
  {
   "cell_type": "code",
   "execution_count": 52,
   "metadata": {},
   "outputs": [],
   "source": [
    "k=2"
   ]
  },
  {
   "cell_type": "code",
   "execution_count": 53,
   "metadata": {},
   "outputs": [],
   "source": [
    "pattern = ['0'*k, '1'*k]"
   ]
  },
  {
   "cell_type": "markdown",
   "metadata": {},
   "source": [
    "### 我的程式碼"
   ]
  },
  {
   "cell_type": "code",
   "execution_count": 6,
   "metadata": {},
   "outputs": [
    {
     "name": "stdout",
     "output_type": "stream",
     "text": [
      "3\n",
      "DDaaAAbbCC\n",
      "0\n"
     ]
    }
   ],
   "source": [
    "k=int(input())\n",
    "line=input()\n",
    "\n",
    "st=''.join([str(int(x.isupper()))for x in line])\n",
    "\n",
    "pattern = ['0'*k, '1'*k]   \n",
    "p0=''\n",
    "p1=''\n",
    "           \n",
    "c=True        \n",
    "m=0\n",
    "\n",
    "while c:\n",
    "    p0=p0+pattern[m%2]\n",
    "    p1=p1+pattern[(m+1)%2]\n",
    "\n",
    "    if (p0 in st) or(p1 in st):\n",
    "        m=m+1\n",
    "    else:\n",
    "        c=False\n",
    "print(m*k)          \n"
   ]
  },
  {
   "cell_type": "code",
   "execution_count": 7,
   "metadata": {},
   "outputs": [
    {
     "name": "stdout",
     "output_type": "stream",
     "text": [
      "The following commands were written to file `p2.py`:\n",
      "k=int(input())\n",
      "line=input()\n",
      "\n",
      "st=''.join([str(int(x.isupper()))for x in line])\n",
      "\n",
      "pattern = ['0'*k, '1'*k]   \n",
      "p0=''\n",
      "p1=''\n",
      "           \n",
      "c=True        \n",
      "m=0\n",
      "\n",
      "while c:\n",
      "    p0=p0+pattern[m%2]\n",
      "    p1=p1+pattern[(m+1)%2]\n",
      "\n",
      "    if (p0 in st) or(p1 in st):\n",
      "        m=m+1\n",
      "    else:\n",
      "        c=False\n",
      "print(m*k)          \n"
     ]
    }
   ],
   "source": [
    "%save \"p2.py\"6"
   ]
  },
  {
   "cell_type": "code",
   "execution_count": 8,
   "metadata": {},
   "outputs": [
    {
     "name": "stdout",
     "output_type": "stream",
     "text": [
      "Writing p201.txt\n"
     ]
    }
   ],
   "source": [
    "%%writefile \"p201.txt\"\n",
    "2\n",
    "aBBdaaa"
   ]
  },
  {
   "cell_type": "code",
   "execution_count": 9,
   "metadata": {},
   "outputs": [
    {
     "name": "stdout",
     "output_type": "stream",
     "text": [
      "Writing p202.txt\n"
     ]
    }
   ],
   "source": [
    "%%writefile \"p202.txt\"\n",
    "3\n",
    "DDaasAAbbCC"
   ]
  },
  {
   "cell_type": "code",
   "execution_count": 11,
   "metadata": {},
   "outputs": [
    {
     "name": "stdout",
     "output_type": "stream",
     "text": [
      "Writing p203.txt\n"
     ]
    }
   ],
   "source": [
    "%%writefile \"p203.txt\"\n",
    "2\n",
    "aafAXbbCDCCC"
   ]
  },
  {
   "cell_type": "code",
   "execution_count": 12,
   "metadata": {},
   "outputs": [
    {
     "name": "stdout",
     "output_type": "stream",
     "text": [
      "Writing p204.txt\n"
     ]
    }
   ],
   "source": [
    "%%writefile \"p204.txt\"\n",
    "3\n",
    "DDaaAAbbCC"
   ]
  },
  {
   "cell_type": "code",
   "execution_count": 15,
   "metadata": {},
   "outputs": [
    {
     "name": "stdout",
     "output_type": "stream",
     "text": [
      "8\n"
     ]
    }
   ],
   "source": [
    "!python p2.py<p202.txt"
   ]
  },
  {
   "cell_type": "markdown",
   "metadata": {},
   "source": [
    "## 1050305 觀念題"
   ]
  },
  {
   "cell_type": "code",
   "execution_count": 21,
   "metadata": {},
   "outputs": [
    {
     "name": "stdout",
     "output_type": "stream",
     "text": [
      "f(1000))=(result), count=(count)\n"
     ]
    }
   ],
   "source": [
    "count=0\n",
    "def f(n):\n",
    "    global count\n",
    "    \n",
    "    if n< 2:\n",
    "        return 0\n",
    "    \n",
    "    sum =0\n",
    "    for i in range(1,n+1):\n",
    "        count +=1\n",
    "        sum +=1\n",
    "        \n",
    "    newN = (2*n)//3\n",
    "    sum += f(newN)\n",
    "    \n",
    "    return sum\n",
    "n = 1000\n",
    "result=f(n)\n",
    "result\n",
    "print(f'f({n}))=(result), count=(count)')"
   ]
  },
  {
   "cell_type": "code",
   "execution_count": 20,
   "metadata": {},
   "outputs": [
    {
     "ename": "TypeError",
     "evalue": "f() takes 1 positional argument but 2 were given",
     "output_type": "error",
     "traceback": [
      "\u001b[1;31m---------------------------------------------------------------------------\u001b[0m",
      "\u001b[1;31mTypeError\u001b[0m                                 Traceback (most recent call last)",
      "\u001b[1;32m<ipython-input-20-50be08cf4a7f>\u001b[0m in \u001b[0;36m<module>\u001b[1;34m\u001b[0m\n\u001b[1;32m----> 1\u001b[1;33m \u001b[0mf\u001b[0m\u001b[1;33m(\u001b[0m\u001b[1;36m1000\u001b[0m\u001b[1;33m,\u001b[0m \u001b[0mcount\u001b[0m\u001b[1;33m)\u001b[0m\u001b[1;33m\u001b[0m\u001b[1;33m\u001b[0m\u001b[0m\n\u001b[0m",
      "\u001b[1;31mTypeError\u001b[0m: f() takes 1 positional argument but 2 were given"
     ]
    }
   ],
   "source": [
    "f(1000, 900336), count=2980  #correct answer\n"
   ]
  },
  {
   "cell_type": "code",
   "execution_count": null,
   "metadata": {},
   "outputs": [],
   "source": []
  }
 ],
 "metadata": {
  "kernelspec": {
   "display_name": "Python 3",
   "language": "python",
   "name": "python3"
  },
  "language_info": {
   "codemirror_mode": {
    "name": "ipython",
    "version": 3
   },
   "file_extension": ".py",
   "mimetype": "text/x-python",
   "name": "python",
   "nbconvert_exporter": "python",
   "pygments_lexer": "ipython3",
   "version": "3.7.3"
  }
 },
 "nbformat": 4,
 "nbformat_minor": 2
}
