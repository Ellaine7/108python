{
 "cells": [
  {
   "cell_type": "markdown",
   "metadata": {},
   "source": [
    "### 英文歌曲比賽歌曲試聽"
   ]
  },
  {
   "cell_type": "code",
   "execution_count": 8,
   "metadata": {},
   "outputs": [
    {
     "name": "stdout",
     "output_type": "stream",
     "text": [
      "歌手名字 (Billie /Ed /Alan/ Calum): Calum\n"
     ]
    },
    {
     "data": {
      "image/jpeg": "[encoded data removed]",
      "text/html": [
       "\n",
       "        <iframe\n",
       "            width=\"400\"\n",
       "            height=\"300\"\n",
       "            src=\"https://www.youtube.com/embed/ShZ978fBl6Y\"\n",
       "            frameborder=\"0\"\n",
       "            allowfullscreen\n",
       "        ></iframe>\n",
       "        "
      ],
      "text/plain": [
       "<IPython.lib.display.YouTubeVideo at 0x4cdcf30>"
      ]
     },
     "metadata": {},
     "output_type": "display_data"
    }
   ],
   "source": [
    "from IPython.display import display, HTML, Markdown, Image, YouTubeVideo\n",
    "L=[\"Billie\",\"Ed\",\"Alan\",\"Calun\"]\n",
    "i=input(\"歌手名字 (Billie /Ed /Alan/ Calum): \")\n",
    "y1=YouTubeVideo('yaJx0Gj_LCY') \n",
    "y2=YouTubeVideo('2Vv-BfVoq4g') \n",
    "y3=YouTubeVideo('60ItHLz5WEA')\n",
    "y4=YouTubeVideo('ShZ978fBl6Y')\n",
    "for name in L:\n",
    "    if i == \"Billie\":\n",
    "        display(y1)\n",
    "        break\n",
    "    elif i == \"Ed\":\n",
    "        display(y2)\n",
    "        break\n",
    "    elif i == \"Alan\":\n",
    "        display(y3)\n",
    "        break    \n",
    "    elif i == \"Calum\":\n",
    "        display(y4)\n",
    "        break    \n",
    "        "
   ]
  },
  {
   "cell_type": "markdown",
   "metadata": {},
   "source": [
    "### 試聽完請同學投票及開票"
   ]
  },
  {
   "cell_type": "code",
   "execution_count": 1,
   "metadata": {},
   "outputs": [
    {
     "name": "stdout",
     "output_type": "stream",
     "text": [
      "請輸入歌手編號 (1 /2 /3/ 4): 4\n",
      "請輸入歌手編號 (1 /2 /3/ 4): 4\n",
      "請輸入歌手編號 (1 /2 /3/ 4): 3\n",
      "請輸入歌手編號 (1 /2 /3/ 4): 2\n",
      "請輸入歌手編號 (1 /2 /3/ 4): 2\n",
      "請輸入歌手編號 (1 /2 /3/ 4): 1\n",
      "請輸入歌手編號 (1 /2 /3/ 4): 1\n",
      "請輸入歌手編號 (1 /2 /3/ 4): 4\n",
      "請輸入歌手編號 (1 /2 /3/ 4): 999\n"
     ]
    },
    {
     "data": {
      "text/plain": [
       "[4, 4, 3, 2, 2, 1, 1, 4]"
      ]
     },
     "execution_count": 1,
     "metadata": {},
     "output_type": "execute_result"
    }
   ],
   "source": [
    "inputNum = 0\n",
    "iVoteList = []\n",
    "\n",
    "while inputNum != 999:\n",
    "    inputNum = int(input('請輸入歌手編號 (1 /2 /3/ 4): '))\n",
    "    if inputNum!=999:\n",
    "        iVoteList.append(inputNum)\n",
    "        \n",
    "iVoteList"
   ]
  },
  {
   "cell_type": "code",
   "execution_count": 2,
   "metadata": {},
   "outputs": [
    {
     "name": "stdout",
     "output_type": "stream",
     "text": [
      "2 2 1 3\n"
     ]
    }
   ],
   "source": [
    "V1=iVoteList.count(1)\n",
    "V2=iVoteList.count(2)\n",
    "V3=iVoteList.count(3)\n",
    "V4=iVoteList.count(4)\n",
    "print(V1,V2,V3,V4)"
   ]
  },
  {
   "cell_type": "code",
   "execution_count": null,
   "metadata": {},
   "outputs": [],
   "source": []
  },
  {
   "cell_type": "markdown",
   "metadata": {},
   "source": [
    "### 中杯飲料不打折 大杯飲料打八折 大杯打折後金額小於中杯才考慮購買大杯"
   ]
  },
  {
   "cell_type": "code",
   "execution_count": 7,
   "metadata": {},
   "outputs": [
    {
     "name": "stdout",
     "output_type": "stream",
     "text": [
      "請輸入金額: 50\n",
      "請輸入金額: 40\n",
      "Buy it!\n"
     ]
    }
   ],
   "source": [
    "M=int(input(\"請輸入金額: \"))\n",
    "m=int(input(\"請輸入金額: \"))\n",
    "if m >= M*0.8:\n",
    "    print(\"Buy it!\")\n",
    "else:\n",
    "    print(\"Forget it!\")\n",
    "    "
   ]
  },
  {
   "cell_type": "markdown",
   "metadata": {},
   "source": [
    "### 從班上40個同學中挑選10位幸運同學上台解題"
   ]
  },
  {
   "cell_type": "code",
   "execution_count": 21,
   "metadata": {},
   "outputs": [
    {
     "name": "stdout",
     "output_type": "stream",
     "text": [
      "Lucky number: 28\n",
      "Lucky number: 6\n",
      "Lucky number: 7\n",
      "Lucky number: 21\n",
      "Lucky number: 9\n",
      "Lucky number: 11\n",
      "Lucky number: 32\n",
      "Lucky number: 12\n",
      "Lucky number: 40\n",
      "Lucky number: 9\n"
     ]
    }
   ],
   "source": [
    "import random\n",
    "\n",
    "n=10\n",
    "for i in range(n): \n",
    "    print (\"Lucky number:\", random.randint(1,40))"
   ]
  },
  {
   "cell_type": "markdown",
   "metadata": {},
   "source": [
    "### 整理學生上學交通方式"
   ]
  },
  {
   "cell_type": "code",
   "execution_count": 22,
   "metadata": {},
   "outputs": [
    {
     "name": "stdout",
     "output_type": "stream",
     "text": [
      "['Keran1家長接送', 'Henry1家長接送']\n",
      "['Jerry2校車', 'Elsa2校車']\n",
      "['Lotus3走路', 'Jasmine3走路']\n"
     ]
    }
   ],
   "source": [
    "\n",
    "names=['Jerry2','Keran1','Lotus3','Jasmine3','Elsa2','Henry1']\n",
    "trans1=[]\n",
    "for name in names:\n",
    "    if name.endswith('1'):\n",
    "        trans1.append(name+'家長接送')        \n",
    "print(trans1)\n",
    "trans2=[]\n",
    "for name in names:\n",
    "    if name.endswith('2'):\n",
    "        trans2.append(name+'校車')        \n",
    "print(trans2)\n",
    "trans3=[]\n",
    "for name in names:\n",
    "    if name.endswith('3'):\n",
    "        trans3.append(name+'走路')        \n",
    "print(trans3)"
   ]
  },
  {
   "cell_type": "code",
   "execution_count": null,
   "metadata": {},
   "outputs": [],
   "source": []
  }
 ],
 "metadata": {
  "kernelspec": {
   "display_name": "Python 3",
   "language": "python",
   "name": "python3"
  },
  "language_info": {
   "codemirror_mode": {
    "name": "ipython",
    "version": 3
   },
   "file_extension": ".py",
   "mimetype": "text/x-python",
   "name": "python",
   "nbconvert_exporter": "python",
   "pygments_lexer": "ipython3",
   "version": "3.7.3"
  }
 },
 "nbformat": 4,
 "nbformat_minor": 2
}
