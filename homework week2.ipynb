{
 "cells": [
  {
   "cell_type": "markdown",
   "metadata": {},
   "source": [
    "## 從班上40個同學中挑選10位幸運同學上台解題"
   ]
  },
  {
   "cell_type": "code",
   "execution_count": 12,
   "metadata": {
    "scrolled": true
   },
   "outputs": [
    {
     "name": "stdout",
     "output_type": "stream",
     "text": [
      "Lucky number: 12\n",
      "Lucky number: 23\n",
      "Lucky number: 20\n",
      "Lucky number: 40\n",
      "Lucky number: 33\n",
      "Lucky number: 4\n",
      "Lucky number: 24\n",
      "Lucky number: 12\n",
      "Lucky number: 5\n",
      "Lucky number: 25\n"
     ]
    }
   ],
   "source": [
    "import random\n",
    "\n",
    "n=10\n",
    "for i in range(n): \n",
    "    print (\"Lucky number:\", random.randint(1,40))"
   ]
  },
  {
   "cell_type": "markdown",
   "metadata": {},
   "source": [
    "### 整理學生上學交通方式"
   ]
  },
  {
   "cell_type": "code",
   "execution_count": 6,
   "metadata": {},
   "outputs": [
    {
     "name": "stdout",
     "output_type": "stream",
     "text": [
      "['Keran1家長接送', 'Henry1家長接送']\n",
      "['Jerry2校車', 'Elsa2校車']\n",
      "['Lotus3走路', 'Jasmine3走路']\n"
     ]
    }
   ],
   "source": [
    "\n",
    "names=['Jerry2','Keran1','Lotus3','Jasmine3','Elsa2','Henry1']\n",
    "trans1=[]\n",
    "for name in names:\n",
    "    if name.endswith('1'):\n",
    "        trans1.append(name+'家長接送')        \n",
    "print(trans1)\n",
    "trans2=[]\n",
    "for name in names:\n",
    "    if name.endswith('2'):\n",
    "        trans2.append(name+'校車')        \n",
    "print(trans2)\n",
    "trans3=[]\n",
    "for name in names:\n",
    "    if name.endswith('3'):\n",
    "        trans3.append(name+'走路')        \n",
    "print(trans3)"
   ]
  },
  {
   "cell_type": "code",
   "execution_count": null,
   "metadata": {},
   "outputs": [],
   "source": []
  }
 ],
 "metadata": {
  "kernelspec": {
   "display_name": "Python 3",
   "language": "python",
   "name": "python3"
  },
  "language_info": {
   "codemirror_mode": {
    "name": "ipython",
    "version": 3
   },
   "file_extension": ".py",
   "mimetype": "text/x-python",
   "name": "python",
   "nbconvert_exporter": "python",
   "pygments_lexer": "ipython3",
   "version": "3.7.3"
  }
 },
 "nbformat": 4,
 "nbformat_minor": 2
}
