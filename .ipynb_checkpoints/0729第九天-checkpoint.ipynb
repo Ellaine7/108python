{
 "cells": [
  {
   "cell_type": "markdown",
   "metadata": {},
   "source": [
    "### APCS20171028樹狀圖分析"
   ]
  },
  {
   "cell_type": "markdown",
   "metadata": {},
   "source": [
    "### 方法一"
   ]
  },
  {
   "cell_type": "code",
   "execution_count": 1,
   "metadata": {},
   "outputs": [
    {
     "name": "stdout",
     "output_type": "stream",
     "text": [
      "7\n",
      "0\n",
      "2 6 7\n",
      "2 1 4\n",
      "0 \n",
      "2 3 2\n",
      "0 \n",
      "0\n"
     ]
    }
   ],
   "source": [
    "n=int(input())\n",
    "T={}    #做成字典檔\n",
    "for i in range (1,n+1):  #i讀7次\n",
    "    line=input().split()\n",
    "    n_line=list(map(int,line))[1:]\n",
    "    T[i]=n_line"
   ]
  },
  {
   "cell_type": "code",
   "execution_count": 2,
   "metadata": {},
   "outputs": [
    {
     "data": {
      "text/plain": [
       "{1: [], 2: [6, 7], 3: [1, 4], 4: [], 5: [3, 2], 6: [], 7: []}"
      ]
     },
     "execution_count": 2,
     "metadata": {},
     "output_type": "execute_result"
    }
   ],
   "source": [
    "T\n"
   ]
  },
  {
   "cell_type": "code",
   "execution_count": 4,
   "metadata": {},
   "outputs": [
    {
     "data": {
      "text/plain": [
       "[6, 7]"
      ]
     },
     "execution_count": 4,
     "metadata": {},
     "output_type": "execute_result"
    }
   ],
   "source": [
    "T[2]"
   ]
  },
  {
   "cell_type": "markdown",
   "metadata": {},
   "source": [
    "L.remove(4)"
   ]
  },
  {
   "cell_type": "code",
   "execution_count": 41,
   "metadata": {},
   "outputs": [
    {
     "name": "stdout",
     "output_type": "stream",
     "text": [
      "5\n",
      "4\n"
     ]
    }
   ],
   "source": [
    "n=7\n",
    "root=list(range(1,n+1))\n",
    "for j in range(1,n+1):\n",
    "    for k in T[j]:\n",
    "        root.remove(k)\n",
    "def h(v):\n",
    "    c_nodeo=T[v]  \n",
    "    if c_nodeo ==[]:\n",
    "        return 0\n",
    "    else:\n",
    "        return max(map(h,T[v]))+1\n",
    "print(root[0])\n",
    "print(sum(map(h,range(1,n+1))))\n"
   ]
  },
  {
   "cell_type": "code",
   "execution_count": null,
   "metadata": {},
   "outputs": [],
   "source": [
    "n=int(input())\n",
    "T={}    #做成字典檔\n",
    "for i in range (1,n+1):  #i讀7次\n",
    "    line=input().split()\n",
    "    n_line=list(map(int,line))[1:]\n",
    "    T[i]=n_line"
   ]
  },
  {
   "cell_type": "code",
   "execution_count": 40,
   "metadata": {},
   "outputs": [
    {
     "data": {
      "text/plain": [
       "1"
      ]
     },
     "execution_count": 40,
     "metadata": {},
     "output_type": "execute_result"
    }
   ],
   "source": [
    "n=int(input())\n",
    "T={}    #做成字典檔\n",
    "for i in range (1,n+1):  #i讀7次\n",
    "    line=input().split()\n",
    "    n_line=list(map(int,line))[1:]\n",
    "    T[i]=n_linen=7\n",
    "root=list(range(1,n+1))\n",
    "for j in range(1,n+1):\n",
    "    for k in T[j]:\n",
    "        root.remove(k)\n",
    "def h(v):\n",
    "    c_nodeo=T[v]  \n",
    "    if c_nodeo ==[]:\n",
    "        return 0\n",
    "    else:\n",
    "        return max(map(h,T[v]))+1\n",
    "print(root[0])\n",
    "print(sum(map(h,range(1,n+1))))"
   ]
  },
  {
   "cell_type": "markdown",
   "metadata": {},
   "source": [
    "### 方法二:使用集合set(只考慮元素，不考慮重複及順序)"
   ]
  },
  {
   "cell_type": "code",
   "execution_count": 2,
   "metadata": {},
   "outputs": [
    {
     "name": "stdout",
     "output_type": "stream",
     "text": [
      "7\n",
      "0\n",
      "2 6 7\n",
      "2 1 4\n",
      "0\n",
      "2 3 2\n",
      "0\n",
      "0\n",
      "5\n",
      "4\n"
     ]
    }
   ],
   "source": [
    "n=int(input())\n",
    "T={}\n",
    "root = set(range (1,n+1))\n",
    "\n",
    "for i in range (1,n+1):  \n",
    "    line=input().split()\n",
    "    n_line=list(map(int,line))[1:]\n",
    "    T[i]=n_line\n",
    "    root=root-set(n_line)\n",
    "    n=7\n",
    "\n",
    "def h(v):\n",
    "    c_nodeo=T[v]  \n",
    "    if c_nodeo ==[]:\n",
    "        return 0\n",
    "    else:\n",
    "        return max(map(h,T[v]))+1\n",
    "print(root.pop())          \n",
    "print(sum(map(h,range(1,n+1))))"
   ]
  },
  {
   "cell_type": "code",
   "execution_count": null,
   "metadata": {},
   "outputs": [],
   "source": [
    "\n"
   ]
  },
  {
   "cell_type": "markdown",
   "metadata": {},
   "source": [
    "### 1060304APCS觀念題6"
   ]
  },
  {
   "cell_type": "code",
   "execution_count": 3,
   "metadata": {},
   "outputs": [
    {
     "ename": "UnboundLocalError",
     "evalue": "local variable 'rowsum' referenced before assignment",
     "output_type": "error",
     "traceback": [
      "\u001b[1;31m---------------------------------------------------------------------------\u001b[0m",
      "\u001b[1;31mUnboundLocalError\u001b[0m                         Traceback (most recent call last)",
      "\u001b[1;32m<ipython-input-3-d1900b880091>\u001b[0m in \u001b[0;36m<module>\u001b[1;34m\u001b[0m\n\u001b[0;32m      6\u001b[0m     \u001b[0mprint\u001b[0m\u001b[1;33m(\u001b[0m\u001b[1;34mf\"The sum of row {i} is {rowsum}.\"\u001b[0m\u001b[1;33m)\u001b[0m\u001b[1;33m\u001b[0m\u001b[1;33m\u001b[0m\u001b[0m\n\u001b[0;32m      7\u001b[0m \u001b[0mB\u001b[0m\u001b[1;33m=\u001b[0m\u001b[1;33m[\u001b[0m\u001b[1;33m[\u001b[0m\u001b[1;36m1\u001b[0m\u001b[1;33m,\u001b[0m\u001b[1;36m2\u001b[0m\u001b[1;33m]\u001b[0m\u001b[1;33m,\u001b[0m \u001b[1;33m[\u001b[0m\u001b[1;36m3\u001b[0m\u001b[1;33m,\u001b[0m\u001b[1;36m4\u001b[0m\u001b[1;33m]\u001b[0m\u001b[1;33m,\u001b[0m \u001b[1;33m[\u001b[0m\u001b[1;36m5\u001b[0m\u001b[1;33m,\u001b[0m\u001b[1;36m6\u001b[0m\u001b[1;33m]\u001b[0m\u001b[1;33m]\u001b[0m\u001b[1;33m\u001b[0m\u001b[1;33m\u001b[0m\u001b[0m\n\u001b[1;32m----> 8\u001b[1;33m \u001b[0mmain\u001b[0m\u001b[1;33m(\u001b[0m\u001b[0mB\u001b[0m\u001b[1;33m)\u001b[0m\u001b[1;33m\u001b[0m\u001b[1;33m\u001b[0m\u001b[0m\n\u001b[0m",
      "\u001b[1;32m<ipython-input-3-d1900b880091>\u001b[0m in \u001b[0;36mmain\u001b[1;34m(A)\u001b[0m\n\u001b[0;32m      3\u001b[0m     \u001b[0mN\u001b[0m\u001b[1;33m=\u001b[0m\u001b[0mlen\u001b[0m\u001b[1;33m(\u001b[0m\u001b[0mA\u001b[0m\u001b[1;33m[\u001b[0m\u001b[1;36m0\u001b[0m\u001b[1;33m]\u001b[0m\u001b[1;33m)\u001b[0m      \u001b[1;31m#rowsum=0\u001b[0m\u001b[1;33m\u001b[0m\u001b[1;33m\u001b[0m\u001b[0m\n\u001b[0;32m      4\u001b[0m     \u001b[1;32mfor\u001b[0m \u001b[0mi\u001b[0m \u001b[1;32min\u001b[0m \u001b[0mrange\u001b[0m\u001b[1;33m(\u001b[0m\u001b[0mM\u001b[0m\u001b[1;33m)\u001b[0m\u001b[1;33m:\u001b[0m\u001b[1;33m\u001b[0m\u001b[1;33m\u001b[0m\u001b[0m\n\u001b[1;32m----> 5\u001b[1;33m         \u001b[0mrowsum\u001b[0m\u001b[1;33m=\u001b[0m\u001b[0mrowsum\u001b[0m\u001b[1;33m+\u001b[0m\u001b[0mA\u001b[0m\u001b[1;33m[\u001b[0m\u001b[0mi\u001b[0m\u001b[1;33m]\u001b[0m\u001b[1;33m[\u001b[0m\u001b[0mj\u001b[0m\u001b[1;33m]\u001b[0m\u001b[1;33m\u001b[0m\u001b[1;33m\u001b[0m\u001b[0m\n\u001b[0m\u001b[0;32m      6\u001b[0m     \u001b[0mprint\u001b[0m\u001b[1;33m(\u001b[0m\u001b[1;34mf\"The sum of row {i} is {rowsum}.\"\u001b[0m\u001b[1;33m)\u001b[0m\u001b[1;33m\u001b[0m\u001b[1;33m\u001b[0m\u001b[0m\n\u001b[0;32m      7\u001b[0m \u001b[0mB\u001b[0m\u001b[1;33m=\u001b[0m\u001b[1;33m[\u001b[0m\u001b[1;33m[\u001b[0m\u001b[1;36m1\u001b[0m\u001b[1;33m,\u001b[0m\u001b[1;36m2\u001b[0m\u001b[1;33m]\u001b[0m\u001b[1;33m,\u001b[0m \u001b[1;33m[\u001b[0m\u001b[1;36m3\u001b[0m\u001b[1;33m,\u001b[0m\u001b[1;36m4\u001b[0m\u001b[1;33m]\u001b[0m\u001b[1;33m,\u001b[0m \u001b[1;33m[\u001b[0m\u001b[1;36m5\u001b[0m\u001b[1;33m,\u001b[0m\u001b[1;36m6\u001b[0m\u001b[1;33m]\u001b[0m\u001b[1;33m]\u001b[0m\u001b[1;33m\u001b[0m\u001b[1;33m\u001b[0m\u001b[0m\n",
      "\u001b[1;31mUnboundLocalError\u001b[0m: local variable 'rowsum' referenced before assignment"
     ]
    }
   ],
   "source": [
    "def main(A=[[]]):\n",
    "    M=len(A)\n",
    "    N=len(A[0])      #rowsum=0\n",
    "    for i in range(M):\n",
    "        rowsum=rowsum+A[i][j]\n",
    "    print(f\"The sum of row {i} is {rowsum}.\")\n",
    "B=[[1,2], [3,4], [5,6]]\n",
    "main(B)"
   ]
  },
  {
   "cell_type": "markdown",
   "metadata": {},
   "source": [
    "## 觀念題8"
   ]
  },
  {
   "cell_type": "code",
   "execution_count": 15,
   "metadata": {},
   "outputs": [
    {
     "ename": "ValueError",
     "evalue": "list.remove(x): x not in list",
     "output_type": "error",
     "traceback": [
      "\u001b[1;31m---------------------------------------------------------------------------\u001b[0m",
      "\u001b[1;31mValueError\u001b[0m                                Traceback (most recent call last)",
      "\u001b[1;32m<ipython-input-15-adc2e8626289>\u001b[0m in \u001b[0;36m<module>\u001b[1;34m\u001b[0m\n\u001b[0;32m      1\u001b[0m \u001b[1;32mfor\u001b[0m \u001b[0mj\u001b[0m \u001b[1;32min\u001b[0m \u001b[0mT\u001b[0m\u001b[1;33m[\u001b[0m\u001b[1;36m3\u001b[0m\u001b[1;33m]\u001b[0m\u001b[1;33m:\u001b[0m\u001b[1;33m\u001b[0m\u001b[1;33m\u001b[0m\u001b[0m\n\u001b[1;32m----> 2\u001b[1;33m     \u001b[0mL\u001b[0m\u001b[1;33m.\u001b[0m\u001b[0mremove\u001b[0m\u001b[1;33m(\u001b[0m\u001b[0mj\u001b[0m\u001b[1;33m)\u001b[0m\u001b[1;33m\u001b[0m\u001b[1;33m\u001b[0m\u001b[0m\n\u001b[0m",
      "\u001b[1;31mValueError\u001b[0m: list.remove(x): x not in list"
     ]
    }
   ],
   "source": [
    "def add( a= 0):\n",
    "    s=6\n",
    "    while a>=0:\n",
    "        print(f\"{s},\",end='')\n",
    "        s=s+1\n",
    "        print"
   ]
  },
  {
   "cell_type": "code",
   "execution_count": null,
   "metadata": {},
   "outputs": [],
   "source": []
  },
  {
   "cell_type": "markdown",
   "metadata": {},
   "source": [
    "### 1050305觀念題17"
   ]
  },
  {
   "cell_type": "code",
   "execution_count": 11,
   "metadata": {},
   "outputs": [],
   "source": [
    "#原始python翻譯碼(錯誤版)\n"
   ]
  },
  {
   "cell_type": "code",
   "execution_count": 16,
   "metadata": {},
   "outputs": [
    {
     "name": "stdout",
     "output_type": "stream",
     "text": [
      "18 17 19 24 15 16\n",
      "s1[5] is not the smallest.\n"
     ]
    }
   ],
   "source": [
    "six=input()\n",
    "s1=list(map(int,six.split()))\n",
    "\n",
    "for i in range(0,5):\n",
    "    if s1[i]>s1[5]:\n",
    "        allBig=True\n",
    "    else:\n",
    "        allBig=False\n",
    "        \n",
    "if allBig==True:\n",
    "    print(f\"s1[5] is the smallest.\")\n",
    "else:\n",
    "    print(f\"s1[5] is not the smallest.\")    #AB 是  CD 不是\n",
    "    \n",
    "        "
   ]
  },
  {
   "cell_type": "code",
   "execution_count": 12,
   "metadata": {},
   "outputs": [],
   "source": [
    "#原始python翻譯碼(正確版)"
   ]
  },
  {
   "cell_type": "code",
   "execution_count": null,
   "metadata": {},
   "outputs": [],
   "source": [
    "six=input()\n",
    "s1=list(map(int,six.split()))\n",
    "\n",
    "for i in range(0,5):\n",
    "    if s1[i]>s1[5]:\n",
    "        allBig=True\n",
    "        break\n",
    "    else:\n",
    "        allBig=False\n",
    "        \n",
    "if allBig==True:\n",
    "    print(f\"s1[5] is the smallest.\")\n",
    "else:\n",
    "    print(f\"s1[5] is not the smallest.\")     "
   ]
  }
 ],
 "metadata": {
  "kernelspec": {
   "display_name": "Python 3",
   "language": "python",
   "name": "python3"
  },
  "language_info": {
   "codemirror_mode": {
    "name": "ipython",
    "version": 3
   },
   "file_extension": ".py",
   "mimetype": "text/x-python",
   "name": "python",
   "nbconvert_exporter": "python",
   "pygments_lexer": "ipython3",
   "version": "3.7.3"
  }
 },
 "nbformat": 4,
 "nbformat_minor": 2
}
