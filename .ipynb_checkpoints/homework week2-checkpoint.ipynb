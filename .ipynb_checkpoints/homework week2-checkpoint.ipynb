{
 "cells": [
  {
   "cell_type": "code",
   "execution_count": 15,
   "metadata": {
    "scrolled": true
   },
   "outputs": [
    {
     "ename": "AttributeError",
     "evalue": "module 'random' has no attribute 'range'",
     "output_type": "error",
     "traceback": [
      "\u001b[1;31m---------------------------------------------------------------------------\u001b[0m",
      "\u001b[1;31mAttributeError\u001b[0m                            Traceback (most recent call last)",
      "\u001b[1;32m<ipython-input-15-85a8a3b0bf74>\u001b[0m in \u001b[0;36m<module>\u001b[1;34m\u001b[0m\n\u001b[0;32m      1\u001b[0m \u001b[1;32mimport\u001b[0m \u001b[0mrandom\u001b[0m\u001b[1;33m\u001b[0m\u001b[1;33m\u001b[0m\u001b[0m\n\u001b[1;32m----> 2\u001b[1;33m \u001b[0mnumber\u001b[0m\u001b[1;33m=\u001b[0m \u001b[0mrandom\u001b[0m\u001b[1;33m.\u001b[0m\u001b[0mrange\u001b[0m\u001b[1;33m(\u001b[0m\u001b[1;36m6\u001b[0m\u001b[1;33m)\u001b[0m\u001b[1;33m\u001b[0m\u001b[1;33m\u001b[0m\u001b[0m\n\u001b[0m\u001b[0;32m      3\u001b[0m \u001b[1;33m\u001b[0m\u001b[0m\n\u001b[0;32m      4\u001b[0m \u001b[0mprint\u001b[0m \u001b[1;33m(\u001b[0m\u001b[0mnumber\u001b[0m\u001b[1;33m)\u001b[0m\u001b[1;33m\u001b[0m\u001b[1;33m\u001b[0m\u001b[0m\n",
      "\u001b[1;31mAttributeError\u001b[0m: module 'random' has no attribute 'range'"
     ]
    }
   ],
   "source": [
    "import random\n",
    "number= random.range(6)\n",
    "\n",
    "print (number)"
   ]
  },
  {
   "cell_type": "code",
   "execution_count": null,
   "metadata": {},
   "outputs": [],
   "source": [
    "names=['1Jerry','2Keran1','3Lotus','4Jasmine','5Elsa','6Henry']"
   ]
  },
  {
   "cell_type": "code",
   "execution_count": 6,
   "metadata": {},
   "outputs": [
    {
     "name": "stdout",
     "output_type": "stream",
     "text": [
      "['Keran1家長接送', 'Henry1家長接送']\n",
      "['Jerry2校車', 'Elsa2校車']\n",
      "['Lotus3走路', 'Jasmine3走路']\n"
     ]
    }
   ],
   "source": [
    "#整理學生上學交通方式\n",
    "names=['Jerry2','Keran1','Lotus3','Jasmine3','Elsa2','Henry1']\n",
    "trans1=[]\n",
    "for name in names:\n",
    "    if name.endswith('1'):\n",
    "        trans1.append(name+'家長接送')        \n",
    "print(trans1)\n",
    "trans2=[]\n",
    "for name in names:\n",
    "    if name.endswith('2'):\n",
    "        trans2.append(name+'校車')        \n",
    "print(trans2)\n",
    "trans3=[]\n",
    "for name in names:\n",
    "    if name.endswith('3'):\n",
    "        trans3.append(name+'走路')        \n",
    "print(trans3)"
   ]
  },
  {
   "cell_type": "code",
   "execution_count": null,
   "metadata": {},
   "outputs": [],
   "source": []
  }
 ],
 "metadata": {
  "kernelspec": {
   "display_name": "Python 3",
   "language": "python",
   "name": "python3"
  }
 },
 "nbformat": 4,
 "nbformat_minor": 2
}
